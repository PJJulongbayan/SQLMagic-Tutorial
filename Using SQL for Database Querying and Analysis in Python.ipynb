{
 "cells": [
  {
   "cell_type": "markdown",
   "id": "45c1b82c-4abc-4ab1-bb69-6c13cf1ea83d",
   "metadata": {},
   "source": [
    "### This notebook demonstrates how Python and SQL can be leveraged together to extract and process data"
   ]
  },
  {
   "cell_type": "code",
   "execution_count": 56,
   "id": "794324e4-ca80-4fa2-8c1d-7cb43e65b998",
   "metadata": {},
   "outputs": [],
   "source": [
    "## Loading libraries "
   ]
  },
  {
   "cell_type": "code",
   "execution_count": 57,
   "id": "efec1ebe-bef1-4302-bb71-0449830e1298",
   "metadata": {},
   "outputs": [],
   "source": [
    "import pandas as pd\n",
    "import csv\n",
    "import sqlite3"
   ]
  },
  {
   "cell_type": "markdown",
   "id": "9255a36d-9820-4d1f-88fc-a80cddaf979c",
   "metadata": {},
   "source": [
    "#### Demonstrating use of SQLite3"
   ]
  },
  {
   "cell_type": "code",
   "execution_count": 58,
   "id": "1cfc9f1b-b1da-4e7c-b5bb-a73924f2a71a",
   "metadata": {},
   "outputs": [],
   "source": [
    "# Establishing connection with the Instructor database and creating an instance\n",
    "conn = sqlite3.connect('INSTRUCTOR.db', timeout=10)\n",
    "cursor_obj = conn.cursor()"
   ]
  },
  {
   "cell_type": "code",
   "execution_count": null,
   "id": "7a9b15b9",
   "metadata": {},
   "outputs": [],
   "source": [
    "# Execute connection\n",
    "cursor_obj.execute(\"DROP TABLE IF EXISTS INSTRUCTOR\")"
   ]
  },
  {
   "cell_type": "code",
   "execution_count": null,
   "id": "65e491f8-500c-4d1b-915f-5ea05b93d405",
   "metadata": {},
   "outputs": [],
   "source": [
    "# Creating table\n",
    "table = \"\"\" create table IF NOT EXISTS INSTRUCTOR(ID INTEGER PRIMARY KEY NOT NULL, FNAME VARCHAR(20), LNAME VARCHAR(20), CITY VARCHAR(20), CCODE CHAR(2));\"\"\"\n",
    " \n",
    "cursor_obj.execute(table)\n",
    " \n",
    "print(\"Table is Ready\")"
   ]
  },
  {
   "cell_type": "code",
   "execution_count": null,
   "id": "acc17b9b-f870-4f89-a405-21c220a4aff3",
   "metadata": {},
   "outputs": [],
   "source": [
    "# Inserting data into database\n",
    "cursor_obj.execute('''insert into INSTRUCTOR values (1, 'Rav', 'Ahuja', 'TORONTO', 'CA')''')"
   ]
  },
  {
   "cell_type": "code",
   "execution_count": null,
   "id": "3c713753-cb35-46bf-b5a6-c6799b389e1f",
   "metadata": {},
   "outputs": [],
   "source": [
    "# Inserting additional data into database\n",
    "cursor_obj.execute('''insert into INSTRUCTOR values (2, 'Raul', 'Chong', 'Markham', 'CA'), (3, 'Hima', 'Vasudevan', 'Chicago', 'US')''')\n"
   ]
  },
  {
   "cell_type": "code",
   "execution_count": null,
   "id": "cc0e9f40-55a1-4aa4-bd25-3a979ac6b50c",
   "metadata": {},
   "outputs": [],
   "source": [
    "# using SQL select stament in Python\n",
    "statement = '''SELECT * FROM INSTRUCTOR'''"
   ]
  },
  {
   "cell_type": "code",
   "execution_count": null,
   "id": "9e82ebd4-a3df-4652-af83-5f3074f031bf",
   "metadata": {},
   "outputs": [],
   "source": [
    "# Fetching content of the queried SQL select statement\n",
    "cursor_obj.execute(statement)\n",
    "\n",
    "print(\"All the data\")\n",
    "output_all = cursor_obj.fetchall()\n",
    "for row_all in output_all:\n",
    "  print(row_all)"
   ]
  },
  {
   "cell_type": "code",
   "execution_count": null,
   "id": "c2b8342b-3081-45cf-bf0d-81d18ca577b9",
   "metadata": {},
   "outputs": [],
   "source": [
    "# Fetch only FNAME from the table\n",
    "statement = '''SELECT FNAME FROM INSTRUCTOR'''\n",
    "cursor_obj.execute(statement)\n",
    "  \n",
    "print(\"All the data\")\n",
    "output_column = cursor_obj.fetchall()\n",
    "for fetch in output_column:\n",
    "  print(fetch)"
   ]
  },
  {
   "cell_type": "code",
   "execution_count": null,
   "id": "d795afa6-7b05-4b03-bf6b-dbbb2ce444e4",
   "metadata": {},
   "outputs": [],
   "source": [
    "# table update on City if FNAME is Rav\n",
    "query_update='''update INSTRUCTOR set CITY='MOOSETOWN' where FNAME=\"Rav\"'''\n",
    "cursor_obj.execute(query_update)"
   ]
  },
  {
   "cell_type": "code",
   "execution_count": null,
   "id": "a5dabf43-78da-4f94-8c00-5ef1153248ba",
   "metadata": {},
   "outputs": [],
   "source": [
    "# check if update push is successful on two rows\n",
    "statement = '''SELECT * FROM INSTRUCTOR'''\n",
    "cursor_obj.execute(statement)\n",
    "  \n",
    "print(\"All the data\")\n",
    "output1 = cursor_obj.fetchmany(2)\n",
    "for row in output1:\n",
    "  print(row)"
   ]
  },
  {
   "cell_type": "markdown",
   "id": "9a47fe37-2e79-4dc4-814d-27f413d918bb",
   "metadata": {},
   "source": [
    "### Use of Pandas to read SQL table"
   ]
  },
  {
   "cell_type": "code",
   "execution_count": null,
   "id": "2eec5c21-03c8-4b26-b341-5d9e32877373",
   "metadata": {},
   "outputs": [],
   "source": [
    "import pandas as pd\n",
    "#retrieve the query results into a pandas dataframe\n",
    "df = pd.read_sql_query(\"select * from instructor;\", conn)\n",
    "\n",
    "#print the dataframe\n",
    "df"
   ]
  },
  {
   "cell_type": "code",
   "execution_count": null,
   "id": "1652d611-1f38-4601-9a17-7f1e8cb7fb82",
   "metadata": {},
   "outputs": [],
   "source": [
    "#print just the LNAME for first row in the pandas data frame\n",
    "df.LNAME[0]"
   ]
  },
  {
   "cell_type": "code",
   "execution_count": null,
   "id": "a8e20127-60a4-466b-9eba-664e948ddfef",
   "metadata": {},
   "outputs": [],
   "source": [
    "# basic check on the data\n",
    "df.describe(include = \"all\")"
   ]
  },
  {
   "cell_type": "code",
   "execution_count": null,
   "id": "4f83bf37-c424-4b5f-8d38-50bc36bb6d5e",
   "metadata": {},
   "outputs": [],
   "source": [
    "# Close the connection\n",
    "conn.close()"
   ]
  },
  {
   "cell_type": "markdown",
   "id": "0ca10471-bb40-422b-a4e7-e245682c6171",
   "metadata": {},
   "source": [
    "### Using SQL Magic for easier implementation of SQL in Python"
   ]
  },
  {
   "cell_type": "code",
   "execution_count": null,
   "id": "4e27760b-c460-40fc-8ce6-7f563fe346a9",
   "metadata": {},
   "outputs": [],
   "source": [
    "# pip install --user ipython-sql   ## for sql magic extension"
   ]
  },
  {
   "cell_type": "code",
   "execution_count": null,
   "id": "d2b5de01-b4bb-412b-aacb-468d4abe44ca",
   "metadata": {},
   "outputs": [],
   "source": [
    "con = sqlite3.connect(\"SQLiteMagic.db\")\n",
    "cur = con.cursor()"
   ]
  },
  {
   "cell_type": "code",
   "execution_count": null,
   "id": "5174fce1-e552-4bd8-9b06-22cec4af3d6a",
   "metadata": {},
   "outputs": [],
   "source": [
    "# load extension\n",
    "%load_ext sql "
   ]
  },
  {
   "cell_type": "code",
   "execution_count": null,
   "id": "2867afc2-b1ee-4f94-93a9-531967a3864d",
   "metadata": {},
   "outputs": [],
   "source": [
    "# Connect\n",
    "%sql sqlite:///SQLiteMagic.db"
   ]
  },
  {
   "cell_type": "code",
   "execution_count": null,
   "id": "04d43dd4-b548-4ac6-a2ab-201c8caf6bc6",
   "metadata": {},
   "outputs": [],
   "source": [
    "# We create a table into the SQLiteMagic db. Notice that to use SQL magic, we precede the entire cell of code with '%%sql'\n",
    "# We insert values into the created table"
   ]
  },
  {
   "cell_type": "code",
   "execution_count": null,
   "id": "e9869e90-b12f-4f66-84a8-71297a187953",
   "metadata": {},
   "outputs": [],
   "source": [
    "%%sql\n",
    "CREATE TABLE INTERNATIONAL_STUDENT_TEST_SCORES (\n",
    "\tcountry VARCHAR(50),\n",
    "\tfirst_name VARCHAR(50),\n",
    "\tlast_name VARCHAR(50),\n",
    "\ttest_score INT\n",
    ");"
   ]
  },
  {
   "cell_type": "code",
   "execution_count": null,
   "id": "a7523023-adde-403f-82b1-8ae4766642ec",
   "metadata": {},
   "outputs": [],
   "source": [
    "%%sql\n",
    "INSERT INTO INTERNATIONAL_STUDENT_TEST_SCORES (country, first_name, last_name, test_score)\n",
    "VALUES\n",
    "('United States', 'Marshall', 'Bernadot', 54),\n",
    "('Ghana', 'Celinda', 'Malkin', 51),\n",
    "('Ukraine', 'Guillermo', 'Furze', 53),\n",
    "('Greece', 'Aharon', 'Tunnow', 48),\n",
    "('Russia', 'Bail', 'Goodwin', 46),\n",
    "('Poland', 'Cole', 'Winteringham', 49),\n",
    "('Sweden', 'Emlyn', 'Erricker', 55),\n",
    "('Russia', 'Cathee', 'Sivewright', 49),\n",
    "('China', 'Barny', 'Ingerson', 57),\n",
    "('Uganda', 'Sharla', 'Papaccio', 55),\n",
    "('China', 'Stella', 'Youens', 51),\n",
    "('Poland', 'Julio', 'Buesden', 48),\n",
    "('United States', 'Tiffie', 'Cosely', 58),\n",
    "('Poland', 'Auroora', 'Stiffell', 45),\n",
    "('China', 'Clarita', 'Huet', 52),\n",
    "('Poland', 'Shannon', 'Goulden', 45),\n",
    "('Philippines', 'Emylee', 'Privost', 50),\n",
    "('France', 'Madelina', 'Burk', 49),\n",
    "('China', 'Saunderson', 'Root', 58),\n",
    "('Indonesia', 'Bo', 'Waring', 55),\n",
    "('China', 'Hollis', 'Domotor', 45),\n",
    "('Russia', 'Robbie', 'Collip', 46),\n",
    "('Philippines', 'Davon', 'Donisi', 46),\n",
    "('China', 'Cristabel', 'Radeliffe', 48),\n",
    "('China', 'Wallis', 'Bartleet', 58),\n",
    "('Moldova', 'Arleen', 'Stailey', 38),\n",
    "('Ireland', 'Mendel', 'Grumble', 58),\n",
    "('China', 'Sallyann', 'Exley', 51),\n",
    "('Mexico', 'Kain', 'Swaite', 46),\n",
    "('Indonesia', 'Alonso', 'Bulteel', 45),\n",
    "('Armenia', 'Anatol', 'Tankus', 51),\n",
    "('Indonesia', 'Coralyn', 'Dawkins', 48),\n",
    "('China', 'Deanne', 'Edwinson', 45),\n",
    "('China', 'Georgiana', 'Epple', 51),\n",
    "('Portugal', 'Bartlet', 'Breese', 56),\n",
    "('Azerbaijan', 'Idalina', 'Lukash', 50),\n",
    "('France', 'Livvie', 'Flory', 54),\n",
    "('Malaysia', 'Nonie', 'Borit', 48),\n",
    "('Indonesia', 'Clio', 'Mugg', 47),\n",
    "('Brazil', 'Westley', 'Measor', 48),\n",
    "('Philippines', 'Katrinka', 'Sibbert', 51),\n",
    "('Poland', 'Valentia', 'Mounch', 50),\n",
    "('Norway', 'Sheilah', 'Hedditch', 53),\n",
    "('Papua New Guinea', 'Itch', 'Jubb', 50),\n",
    "('Latvia', 'Stesha', 'Garnson', 53),\n",
    "('Canada', 'Cristionna', 'Wadmore', 46),\n",
    "('China', 'Lianna', 'Gatward', 43),\n",
    "('Guatemala', 'Tanney', 'Vials', 48),\n",
    "('France', 'Alma', 'Zavittieri', 44),\n",
    "('China', 'Alvira', 'Tamas', 50),\n",
    "('United States', 'Shanon', 'Peres', 45),\n",
    "('Sweden', 'Maisey', 'Lynas', 53),\n",
    "('Indonesia', 'Kip', 'Hothersall', 46),\n",
    "('China', 'Cash', 'Landis', 48),\n",
    "('Panama', 'Kennith', 'Digance', 45),\n",
    "('China', 'Ulberto', 'Riggeard', 48),\n",
    "('Switzerland', 'Judy', 'Gilligan', 49),\n",
    "('Philippines', 'Tod', 'Trevaskus', 52),\n",
    "('Brazil', 'Herold', 'Heggs', 44),\n",
    "('Latvia', 'Verney', 'Note', 50),\n",
    "('Poland', 'Temp', 'Ribey', 50),\n",
    "('China', 'Conroy', 'Egdal', 48),\n",
    "('Japan', 'Gabie', 'Alessandone', 47),\n",
    "('Ukraine', 'Devlen', 'Chaperlin', 54),\n",
    "('France', 'Babbette', 'Turner', 51),\n",
    "('Czech Republic', 'Virgil', 'Scotney', 52),\n",
    "('Tajikistan', 'Zorina', 'Bedow', 49),\n",
    "('China', 'Aidan', 'Rudeyeard', 50),\n",
    "('Ireland', 'Saunder', 'MacLice', 48),\n",
    "('France', 'Waly', 'Brunstan', 53),\n",
    "('China', 'Gisele', 'Enns', 52),\n",
    "('Peru', 'Mina', 'Winchester', 48),\n",
    "('Japan', 'Torie', 'MacShirrie', 50),\n",
    "('Russia', 'Benjamen', 'Kenford', 51),\n",
    "('China', 'Etan', 'Burn', 53),\n",
    "('Russia', 'Merralee', 'Chaperlin', 38),\n",
    "('Indonesia', 'Lanny', 'Malam', 49),\n",
    "('Canada', 'Wilhelm', 'Deeprose', 54),\n",
    "('Czech Republic', 'Lari', 'Hillhouse', 48),\n",
    "('China', 'Ossie', 'Woodley', 52),\n",
    "('Macedonia', 'April', 'Tyer', 50),\n",
    "('Vietnam', 'Madelon', 'Dansey', 53),\n",
    "('Ukraine', 'Korella', 'McNamee', 52),\n",
    "('Jamaica', 'Linnea', 'Cannam', 43),\n",
    "('China', 'Mart', 'Coling', 52),\n",
    "('Indonesia', 'Marna', 'Causbey', 47),\n",
    "('China', 'Berni', 'Daintier', 55),\n",
    "('Poland', 'Cynthia', 'Hassell', 49),\n",
    "('Canada', 'Carma', 'Schule', 49),\n",
    "('Indonesia', 'Malia', 'Blight', 48),\n",
    "('China', 'Paulo', 'Seivertsen', 47),\n",
    "('Niger', 'Kaylee', 'Hearley', 54),\n",
    "('Japan', 'Maure', 'Jandak', 46),\n",
    "('Argentina', 'Foss', 'Feavers', 45),\n",
    "('Venezuela', 'Ron', 'Leggitt', 60),\n",
    "('Russia', 'Flint', 'Gokes', 40),\n",
    "('China', 'Linet', 'Conelly', 52),\n",
    "('Philippines', 'Nikolas', 'Birtwell', 57),\n",
    "('Australia', 'Eduard', 'Leipelt', 53)\n"
   ]
  },
  {
   "cell_type": "code",
   "execution_count": null,
   "id": "7e4e278b-2043-4b1d-adc5-39df28c25256",
   "metadata": {},
   "outputs": [],
   "source": [
    "# We query the first few datapoints on newly created table"
   ]
  },
  {
   "cell_type": "code",
   "execution_count": null,
   "id": "3893bfe5-b31f-4070-8962-62da5e140d51",
   "metadata": {},
   "outputs": [],
   "source": [
    "%%sql \n",
    "SELECT * FROM INTERNATIONAL_STUDENT_TEST_SCORES LIMIT 5;"
   ]
  },
  {
   "cell_type": "code",
   "execution_count": null,
   "id": "5cb053d5-20b7-4572-ae2f-6dbf28c49ced",
   "metadata": {},
   "outputs": [],
   "source": [
    "# another test query. Use ':variable' to pass a python variable into the SQL query"
   ]
  },
  {
   "cell_type": "code",
   "execution_count": null,
   "id": "bd90a0eb-5b38-450d-a655-7c2b13ab1870",
   "metadata": {},
   "outputs": [],
   "source": [
    "country = \"Canada\"\n",
    "%sql select * from INTERNATIONAL_STUDENT_TEST_SCORES where country = :country"
   ]
  },
  {
   "cell_type": "code",
   "execution_count": null,
   "id": "73c8d6d8-6cc4-4733-a8a2-e0839c6b1843",
   "metadata": {},
   "outputs": [],
   "source": [
    "# Additional query and group by method\n",
    "test_score_distribution = %sql SELECT test_score as \"Test_Score\", count(*) as \"Frequency\" from INTERNATIONAL_STUDENT_TEST_SCORES GROUP BY test_score;\n",
    "test_score_distribution"
   ]
  },
  {
   "cell_type": "code",
   "execution_count": null,
   "id": "157e2131-7c36-4f59-a3b6-975d625c304a",
   "metadata": {},
   "outputs": [],
   "source": [
    "# Plotting sample data with seaborn\n",
    "dataframe = test_score_distribution.DataFrame()\n",
    "\n",
    "%matplotlib inline\n",
    "# uncomment the following line if you get an module error saying seaborn not found\n",
    "# !pip install seaborn==0.9.0\n",
    "import seaborn\n",
    "\n",
    "plot = seaborn.barplot(x='Test_Score',y='Frequency', data=dataframe)"
   ]
  },
  {
   "cell_type": "code",
   "execution_count": null,
   "id": "7d8f4873-b9b6-46bf-aa0b-f600b0b0f9c0",
   "metadata": {},
   "outputs": [],
   "source": [
    "con.close()"
   ]
  },
  {
   "cell_type": "markdown",
   "id": "7cb94579-d8bf-4d4a-b2b1-c7238c14746a",
   "metadata": {},
   "source": [
    "### This ends the demonstration of using SQL in Python. Feel free to experiment with the data set provided in this notebook for practice:"
   ]
  }
 ],
 "metadata": {
  "kernelspec": {
   "display_name": "Python 3 (ipykernel)",
   "language": "python",
   "name": "python3"
  },
  "language_info": {
   "codemirror_mode": {
    "name": "ipython",
    "version": 3
   },
   "file_extension": ".py",
   "mimetype": "text/x-python",
   "name": "python",
   "nbconvert_exporter": "python",
   "pygments_lexer": "ipython3",
   "version": "3.11.7"
  }
 },
 "nbformat": 4,
 "nbformat_minor": 5
}
